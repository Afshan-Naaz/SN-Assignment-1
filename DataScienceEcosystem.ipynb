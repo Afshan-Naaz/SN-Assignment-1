{
 "cells": [
  {
   "cell_type": "markdown",
   "id": "6f9e9ff9",
   "metadata": {},
   "source": [
    "# Data Science Tools and Ecosystem"
   ]
  },
  {
   "cell_type": "markdown",
   "id": "4460dfad",
   "metadata": {},
   "source": [
    "In this notebook, Data Science Tools and Ecosystem are summarized."
   ]
  },
  {
   "cell_type": "markdown",
   "id": "7a23c77b",
   "metadata": {},
   "source": [
    "Objectives:\n",
    "\n",
    "- Created and worked with Jupyter Notebooks, specifically creating a new notebook named DataScienceEcosystem.ipynb.\n",
    "- Practiced using Markdown cells to structure content with titles, introductions, and formatted lists.\n",
    "- Listed popular languages and commonly used libraries in data science.\n",
    "- Created a table of Data Science Tools.\n",
    "- Performed simple arithmetic operations, such as multiplying and adding numbers, and converting minutes to hours.\n",
    "- Authored the notebook with personal details and listed objectives as key takeaways from the notebook."
   ]
  },
  {
   "cell_type": "markdown",
   "id": "8c5c5f9c",
   "metadata": {},
   "source": [
    "Some of the popular languages that Data Scientists use are:\n",
    "\n",
    "    1. Python\n",
    "    2. R\n",
    "    3. SQL\n",
    "    4. Julia\n",
    "    5. Scala\n",
    "    6. Java\n",
    "    7. MATLAB\n",
    "    8. SAS"
   ]
  },
  {
   "cell_type": "markdown",
   "id": "4a6781c5",
   "metadata": {},
   "source": [
    "Some of the commonly used libraries used by Data Scientists include:\n",
    "\n",
    "1. NumPy\n",
    "2. Pandas\n",
    "3. Matplotlib\n",
    "4. Seaborn\n",
    "5. Scikit-learn\n",
    "6. TensorFlow\n",
    "7. Keras"
   ]
  },
  {
   "cell_type": "markdown",
   "id": "35da2c62",
   "metadata": {},
   "source": [
    "| Data Science Tools |\n",
    "| ------------------ |\n",
    "| Jupyter Notebooks |\n",
    "| RStudio |\n",
    "| Apache Zeppelin |"
   ]
  },
  {
   "cell_type": "markdown",
   "id": "843f188b",
   "metadata": {},
   "source": [
    "### Below are a few examples of evaluating arithmetic expressions in Python."
   ]
  },
  {
   "cell_type": "code",
   "execution_count": 1,
   "id": "94b1bd27",
   "metadata": {},
   "outputs": [
    {
     "data": {
      "text/plain": [
       "17"
      ]
     },
     "execution_count": 1,
     "metadata": {},
     "output_type": "execute_result"
    }
   ],
   "source": [
    "#This a simple arithmetic expression to mutiply then add integers\n",
    "(3*4)+5"
   ]
  },
  {
   "cell_type": "code",
   "execution_count": 2,
   "id": "d1ffe8ae",
   "metadata": {},
   "outputs": [
    {
     "data": {
      "text/plain": [
       "3.3333333333333335"
      ]
     },
     "execution_count": 2,
     "metadata": {},
     "output_type": "execute_result"
    }
   ],
   "source": [
    "#This will convert 200 minutes to hours by diving by 60\n",
    "200/60"
   ]
  },
  {
   "cell_type": "markdown",
   "id": "d58ff1fd",
   "metadata": {},
   "source": [
    "## Author\n",
    "\n",
    "Afshan Naaz"
   ]
  }
 ],
 "metadata": {
  "kernelspec": {
   "display_name": "Python 3 (ipykernel)",
   "language": "python",
   "name": "python3"
  },
  "language_info": {
   "codemirror_mode": {
    "name": "ipython",
    "version": 3
   },
   "file_extension": ".py",
   "mimetype": "text/x-python",
   "name": "python",
   "nbconvert_exporter": "python",
   "pygments_lexer": "ipython3",
   "version": "3.9.12"
  }
 },
 "nbformat": 4,
 "nbformat_minor": 5
}
